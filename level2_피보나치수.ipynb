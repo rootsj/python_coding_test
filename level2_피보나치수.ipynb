{
 "cells": [
  {
   "cell_type": "markdown",
   "metadata": {},
   "source": [
    "https://programmers.co.kr/learn/courses/30/lessons/12945"
   ]
  },
  {
   "cell_type": "markdown",
   "metadata": {},
   "source": [
    "# 피보나치 수"
   ]
  },
  {
   "cell_type": "markdown",
   "metadata": {},
   "source": [
    "## 문제 설명\n",
    "피보나치 수는 F(0) = 0, F(1) = 1일 때, 1 이상의 n에 대하여 F(n) = F(n-1) + F(n-2) 가 적용되는 수 입니다. <br><br>\n",
    "\n",
    "예를들어 <br><br>\n",
    "\n",
    "F(2) = F(0) + F(1) = 0 + 1 = 1 <br>\n",
    "F(3) = F(1) + F(2) = 1 + 1 = 2 <br>\n",
    "F(4) = F(2) + F(3) = 1 + 2 = 3 <br>\n",
    "F(5) = F(3) + F(4) = 2 + 3 = 5 <br>\n",
    "와 같이 이어집니다. <br><br>\n",
    "\n",
    "2 이상의 n이 입력되었을 때, n번째 피보나치 수를 1234567으로 나눈 나머지를 리턴하는 함수, solution을 완성해 주세요. <br>\n",
    "\n",
    "## 제한 사항\n",
    "* n은 1이상, 100000이하인 자연수입니다."
   ]
  },
  {
   "cell_type": "markdown",
   "metadata": {},
   "source": [
    "## 입출력 예\n",
    "|n|return|\n",
    "|-|-|\n",
    "|3|2|\n",
    "|5|5|"
   ]
  },
  {
   "cell_type": "markdown",
   "metadata": {},
   "source": [
    "## 입출력 예 설명\n",
    "피보나치수는 0번째부터 0, 1, 1, 2, 3, 5, ... 와 같이 이어집니다."
   ]
  },
  {
   "cell_type": "markdown",
   "metadata": {},
   "source": [
    "## 답 A"
   ]
  },
  {
   "cell_type": "code",
   "execution_count": 1,
   "metadata": {},
   "outputs": [],
   "source": [
    "def solution(n):\n",
    "    lst = [0, 1]\n",
    "    if n == 1:\n",
    "        answer = 0\n",
    "    elif n == 2:\n",
    "        answer = 1\n",
    "    elif n > 2:\n",
    "        for i in range(3,n+1):\n",
    "            a =  lst[i-3] + lst[i-2]\n",
    "            lst.append(a)\n",
    "    answer = (lst[n-1] +lst[n-2]) % 1234567\n",
    "    return answer"
   ]
  },
  {
   "cell_type": "code",
   "execution_count": 2,
   "metadata": {},
   "outputs": [
    {
     "data": {
      "text/plain": [
       "5"
      ]
     },
     "execution_count": 2,
     "metadata": {},
     "output_type": "execute_result"
    }
   ],
   "source": [
    "solution(5)"
   ]
  },
  {
   "cell_type": "markdown",
   "metadata": {},
   "source": [
    "## 답 B"
   ]
  },
  {
   "cell_type": "code",
   "execution_count": 5,
   "metadata": {},
   "outputs": [],
   "source": [
    "def solution(n):\n",
    "    a,b = 0,1\n",
    "    for i in range(n):\n",
    "        a,b = b,a+b\n",
    "    answer = a % 1234567\n",
    "    return answer"
   ]
  },
  {
   "cell_type": "code",
   "execution_count": 6,
   "metadata": {},
   "outputs": [
    {
     "data": {
      "text/plain": [
       "5"
      ]
     },
     "execution_count": 6,
     "metadata": {},
     "output_type": "execute_result"
    }
   ],
   "source": [
    "solution(5)"
   ]
  }
 ],
 "metadata": {
  "kernelspec": {
   "display_name": "Python 3",
   "language": "python",
   "name": "python3"
  },
  "language_info": {
   "codemirror_mode": {
    "name": "ipython",
    "version": 3
   },
   "file_extension": ".py",
   "mimetype": "text/x-python",
   "name": "python",
   "nbconvert_exporter": "python",
   "pygments_lexer": "ipython3",
   "version": "3.7.6"
  }
 },
 "nbformat": 4,
 "nbformat_minor": 4
}
