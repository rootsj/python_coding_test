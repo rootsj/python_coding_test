{
 "cells": [
  {
   "cell_type": "markdown",
   "metadata": {},
   "source": [
    "https://programmers.co.kr/learn/courses/30/lessons/12938"
   ]
  },
  {
   "cell_type": "markdown",
   "metadata": {},
   "source": [
    "# 최고의 집합"
   ]
  },
  {
   "cell_type": "markdown",
   "metadata": {},
   "source": [
    "## 문제 설명\n",
    "자연수 n 개로 이루어진 중복 집합(multi set, 편의상 이후에는 집합으로 통칭) 중에 다음 두 조건을 만족하는 집합을 최고의 집합이라고 합니다. <br><br>\n",
    "\n",
    "각 원소의 합이 S가 되는 수의 집합<br>\n",
    "위 조건을 만족하면서 각 원소의 곱 이 최대가 되는 집합<br>\n",
    "예를 들어서 자연수 2개로 이루어진 집합 중 합이 9가 되는 집합은 다음과 같이 4개가 있습니다.<br>\n",
    "{ 1, 8 }, { 2, 7 }, { 3, 6 }, { 4, 5 }<br>\n",
    "그중 각 원소의 곱이 최대인 { 4, 5 }가 최고의 집합입니다.<br><br>\n",
    "\n",
    "집합의 원소의 개수 n과 모든 원소들의 합 s가 매개변수로 주어질 때, 최고의 집합을 return 하는 solution 함수를 완성해주세요.<br>\n",
    "\n",
    "## 제한사항\n",
    "최고의 집합은 오름차순으로 정렬된 1차원 배열(list, vector) 로 return 해주세요.<br>\n",
    "만약 최고의 집합이 존재하지 않는 경우에 크기가 1인 1차원 배열(list, vector) 에 -1 을 채워서 return 해주세요.<br>\n",
    "자연수의 개수 n은 1 이상 10,000 이하의 자연수입니다.<br>\n",
    "모든 원소들의 합 s는 1 이상, 100,000,000 이하의 자연수입니다.<br>"
   ]
  },
  {
   "cell_type": "markdown",
   "metadata": {},
   "source": [
    "## 입출력 예\n",
    "|n|s|result|\n",
    "|-|-|-|\n",
    "|2|9|[4, 5]|\n",
    "|2|1|[-1]|\n",
    "|2|8|[4, 4]|\n"
   ]
  },
  {
   "cell_type": "markdown",
   "metadata": {},
   "source": [
    "## 입출력 예 설명\n",
    "입출력 예#1 <br>\n",
    "문제의 예시와 같습니다.<br><br>\n",
    "\n",
    "입출력 예#2<br>\n",
    "자연수 2개를 가지고는 합이 1인 집합을 만들 수 없습니다. 따라서 -1이 들어있는 배열을 반환합니다.<br><br>\n",
    "\n",
    "입출력 예#3<br>\n",
    "자연수 2개로 이루어진 집합 중 원소의 합이 8인 집합은 다음과 같습니다.<br><br>\n",
    "\n",
    "{ 1, 7 }, { 2, 6 }, { 3, 5 }, { 4, 4 }<br><br>\n",
    "\n",
    "그중 각 원소의 곱이 최대인 { 4, 4 }가 최고의 집합입니다."
   ]
  },
  {
   "cell_type": "markdown",
   "metadata": {},
   "source": [
    "## 풀이"
   ]
  },
  {
   "cell_type": "code",
   "execution_count": 3,
   "metadata": {},
   "outputs": [],
   "source": [
    "def solution(n, s):\n",
    "    if  n > s:\n",
    "        return [-1]\n",
    "    elif s % n == 0 :\n",
    "        a = s//n\n",
    "        b = [a for i in range(n)]\n",
    "        return b\n",
    "    else :\n",
    "        a = s//n\n",
    "        a1 = s % n\n",
    "        b = [a for i in range(n-a1)]\n",
    "        c = [a+1 for i in range(a1)]\n",
    "        return b + c\n",
    "    return answer"
   ]
  }
 ],
 "metadata": {
  "kernelspec": {
   "display_name": "Python 3",
   "language": "python",
   "name": "python3"
  },
  "language_info": {
   "codemirror_mode": {
    "name": "ipython",
    "version": 3
   },
   "file_extension": ".py",
   "mimetype": "text/x-python",
   "name": "python",
   "nbconvert_exporter": "python",
   "pygments_lexer": "ipython3",
   "version": "3.7.6"
  }
 },
 "nbformat": 4,
 "nbformat_minor": 4
}
