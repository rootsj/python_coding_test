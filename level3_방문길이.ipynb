{
 "cells": [
  {
   "cell_type": "markdown",
   "metadata": {},
   "source": [
    "https://programmers.co.kr/learn/courses/30/lessons/49994"
   ]
  },
  {
   "cell_type": "markdown",
   "metadata": {},
   "source": [
    "# 방문길이"
   ]
  },
  {
   "cell_type": "markdown",
   "metadata": {},
   "source": [
    "문제 설명\n",
    "게임 캐릭터를 4가지 명령어를 통해 움직이려 합니다. 명령어는 다음과 같습니다.\n",
    "\n",
    "U: 위쪽으로 한 칸 가기\n",
    "\n",
    "D: 아래쪽으로 한 칸 가기\n",
    "\n",
    "R: 오른쪽으로 한 칸 가기\n",
    "\n",
    "L: 왼쪽으로 한 칸 가기\n",
    "\n",
    "캐릭터는 좌표평면의 (0, 0) 위치에서 시작합니다. 좌표평면의 경계는 왼쪽 위(-5, 5), 왼쪽 아래(-5, -5), 오른쪽 위(5, 5), 오른쪽 아래(5, -5)로 이루어져 있습니다."
   ]
  },
  {
   "cell_type": "markdown",
   "metadata": {},
   "source": [
    "![image1](img/방문길이1.png)"
   ]
  },
  {
   "cell_type": "markdown",
   "metadata": {},
   "source": [
    "예를 들어, ULURRDLLU로 명령했다면\n",
    "![image2](img/방문길이2.png)\n",
    "1번 명령어부터 7번 명령어까지 다음과 같이 움직입니다.\n",
    "![image3](img/방문길이3.png)\n",
    "8번 명령어부터 9번 명령어까지 다음과 같이 움직입니다.\n",
    "![image4](img/방문길이4.png)\n",
    "이때, 우리는 게임 캐릭터가 지나간 길 중 캐릭터가 처음 걸어본 길의 길이를 구하려고 합니다. 예를 들어 위의 예시에서 게임 캐릭터가 움직인 길이는 9이지만, 캐릭터가 처음 걸어본 길의 길이는 7이 됩니다. (8, 9번 명령어에서 움직인 길은 2, 3번 명령어에서 이미 거쳐 간 길입니다)\n",
    "\n",
    "단, 좌표평면의 경계를 넘어가는 명령어는 무시합니다.\n",
    "\n",
    "예를 들어, LULLLLLLU로 명령했다면\n",
    "![image5](img/방문길이5.png)\n",
    "1번 명령어부터 6번 명령어대로 움직인 후, 7, 8번 명령어는 무시합니다. 다시 9번 명령어대로 움직입니다.\n",
    "![image6](img/방문길이6.png)\n",
    "이때 캐릭터가 처음 걸어본 길의 길이는 7이 됩니다.\n",
    "\n",
    "명령어가 매개변수 dirs로 주어질 때, 게임 캐릭터가 처음 걸어본 길의 길이를 구하여 return 하는 solution 함수를 완성해 주세요."
   ]
  },
  {
   "cell_type": "markdown",
   "metadata": {},
   "source": [
    "## 제한사항\n",
    "dirs는 string형으로 주어지며, 'U', 'D', 'R', 'L' 이외에 문자는 주어지지 않습니다.\n",
    "\n",
    "dirs의 길이는 500 이하의 자연수입니다."
   ]
  },
  {
   "cell_type": "markdown",
   "metadata": {},
   "source": [
    "## 입출력 예\n",
    "|dirs|answer|\n",
    "|-|-|\n",
    "|ULURRDLLU|7|\n",
    "|LULLLLLLU|7|"
   ]
  },
  {
   "cell_type": "markdown",
   "metadata": {},
   "source": [
    "## 중요 예외\n",
    "\"LRLRL\" 1"
   ]
  },
  {
   "cell_type": "markdown",
   "metadata": {},
   "source": [
    "## 풀이"
   ]
  },
  {
   "cell_type": "code",
   "execution_count": 1,
   "metadata": {},
   "outputs": [],
   "source": [
    "def solution(dirs):\n",
    "    route = []\n",
    "    loc = [0, 0]\n",
    "    past = [0, 0]\n",
    "    for r in dirs:\n",
    "        loc = loc.copy()\n",
    "        past = past.copy()\n",
    "        if r == 'U' or r == 'D' and loc[0] < 6 and loc[0] > -6:\n",
    "            if r =='U' and loc[0] <= 4:\n",
    "                loc[0] += 1\n",
    "            elif r == 'D' and loc[0] >= -4:\n",
    "                loc[0] -= 1\n",
    "        elif r == 'R' or r == 'L' and loc[1] < 6 and loc[1] > -6:\n",
    "            if r == 'R' and loc[1] <= 4:\n",
    "                loc[1] += 1\n",
    "            elif r == 'L' and loc[1] >= -4 :\n",
    "                loc[1] -= 1\n",
    "        route.append(loc+past)\n",
    "        past = loc\n",
    "        for a in route:\n",
    "            if a[0:2] == a[2:4] :\n",
    "                route.remove(a)\n",
    "            elif (a[2:4] + a[0:2]) in route:\n",
    "                route.remove(a)\n",
    "            \n",
    "    answer = set(map(tuple, route))\n",
    "    return len(answer)"
   ]
  },
  {
   "cell_type": "markdown",
   "metadata": {},
   "source": [
    "## 다른 풀이"
   ]
  },
  {
   "cell_type": "code",
   "execution_count": 4,
   "metadata": {},
   "outputs": [],
   "source": [
    "def solution(dirs):\n",
    "\n",
    "\n",
    "    walk_list = []\n",
    "    start_location = [0,0]\n",
    "    now_location = [0,0]\n",
    "    for c in dirs:\n",
    "        if c == 'U' and start_location[1] < 5:\n",
    "            now_location = [start_location[0],start_location[1] + 1]\n",
    "\n",
    "        elif c == 'L' and start_location[0] > -5:\n",
    "            now_location = [start_location[0] - 1, start_location[1]]\n",
    "\n",
    "        elif c == 'R' and start_location[0] < 5:\n",
    "            now_location = [start_location[0] + 1, start_location[1]]\n",
    "\n",
    "        elif c == 'D'and start_location[1] > -5:\n",
    "            now_location = [start_location[0], start_location[1] - 1]\n",
    "\n",
    "\n",
    "        if ([start_location,now_location] not in walk_list) and ([now_location,start_location] not in walk_list) \\\n",
    "                and (now_location != start_location) :\n",
    "            walk_list.append([start_location,now_location])\n",
    "\n",
    "        start_location = now_location\n",
    "\n",
    "    return len(walk_list)"
   ]
  }
 ],
 "metadata": {
  "kernelspec": {
   "display_name": "Python 3",
   "language": "python",
   "name": "python3"
  },
  "language_info": {
   "codemirror_mode": {
    "name": "ipython",
    "version": 3
   },
   "file_extension": ".py",
   "mimetype": "text/x-python",
   "name": "python",
   "nbconvert_exporter": "python",
   "pygments_lexer": "ipython3",
   "version": "3.7.6"
  }
 },
 "nbformat": 4,
 "nbformat_minor": 4
}
