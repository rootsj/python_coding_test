{
 "cells": [
  {
   "cell_type": "markdown",
   "metadata": {},
   "source": [
    "https://programmers.co.kr/learn/courses/30/lessons/42583\n",
    "\n",
    "# 스택/큐\n"
   ]
  },
  {
   "cell_type": "markdown",
   "metadata": {},
   "source": [
    "# 다리를 지나는 트럭"
   ]
  },
  {
   "cell_type": "markdown",
   "metadata": {},
   "source": [
    "## 문제 설명\n",
    "트럭 여러 대가 강을 가로지르는 일 차선 다리를 정해진 순으로 건너려 합니다. 모든 트럭이 다리를 건너려면 최소 몇 초가 걸리는지 알아내야 합니다. 트럭은 1초에 1만큼 움직이며, 다리 길이는 bridge_length이고 다리는 무게 weight까지 견딥니다. <br>\n",
    "※ 트럭이 다리에 완전히 오르지 않은 경우, 이 트럭의 무게는 고려하지 않습니다. <br><br>\n",
    "\n",
    "예를 들어, 길이가 2이고 10kg 무게를 견디는 다리가 있습니다. 무게가 [7, 4, 5, 6]kg인 트럭이 순서대로 최단 시간 안에 다리를 건너려면 다음과 같이 건너야 합니다. <br>"
   ]
  },
  {
   "cell_type": "markdown",
   "metadata": {},
   "source": [
    "|경과 시간|다리를 지난 트럭|다리를 건너는 트럭|대기 트럭|\n",
    "|-|-|-|-|\n",
    "|0|[]|[]|[7,4,5,6||\n",
    "|1~2|[]|[7]|[4,5,6]|\n",
    "|3|[7]|[4]|[5,6]|\n",
    "|4|[7]|[4,5]|[6]|\n",
    "|5|[7,4]|[5]|[6]|\n",
    "|6~7|[7,4,5]|[6]|[]|\n",
    "|8|[7,4,5,6]|[]|[]|"
   ]
  },
  {
   "cell_type": "markdown",
   "metadata": {},
   "source": [
    "따라서, 모든 트럭이 다리를 지나려면 최소 8초가 걸립니다. <br><br>\n",
    "\n",
    "solution 함수의 매개변수로 다리 길이 bridge_length, 다리가 견딜 수 있는 무게 weight, 트럭별 무게 truck_weights가 주어집니다. 이때 모든 트럭이 다리를 건너려면 최소 몇 초가 걸리는지 return 하도록 solution 함수를 완성하세요.<br>"
   ]
  },
  {
   "cell_type": "markdown",
   "metadata": {},
   "source": [
    "## 제한 조건\n",
    "bridge_length는 1 이상 10,000 이하입니다. <br>\n",
    "weight는 1 이상 10,000 이하입니다.<br>\n",
    "truck_weights의 길이는 1 이상 10,000 이하입니다.<br>\n",
    "모든 트럭의 무게는 1 이상 weight 이하입니다.<br>"
   ]
  },
  {
   "cell_type": "markdown",
   "metadata": {},
   "source": [
    "## 입출력 예\n",
    "|bridge_length|weight|truck_weights|return|\n",
    "|-|-|-|-|\n",
    "|2|10|[7,4,5,6]|8|\n",
    "|100|100|[10]|101|\n",
    "|100|100|[10,10,10,10,10,10,10,10,10,10]|110|"
   ]
  },
  {
   "cell_type": "markdown",
   "metadata": {},
   "source": [
    "# 풀이"
   ]
  },
  {
   "cell_type": "code",
   "execution_count": 1,
   "metadata": {},
   "outputs": [],
   "source": [
    "def solution(bridge_length, weight, truck_weights):\n",
    "    bridge = [0 for c in range(bridge_length)]\n",
    "    timer = 0\n",
    "    while len(truck_weights) > 0:\n",
    "        if sum(bridge[1:]) + truck_weights[0] <= weight:\n",
    "            bridge.append(truck_weights[0])\n",
    "            truck_weights.pop(0)\n",
    "        else:\n",
    "            while bridge[1] == 0:\n",
    "                bridge.pop(0)\n",
    "                bridge.append(0)\n",
    "                timer += 1\n",
    "            bridge.append(0)\n",
    "\n",
    "        timer += 1\n",
    "        bridge.pop(0)\n",
    "\n",
    "    timer += len(bridge)            \n",
    "    return timer"
   ]
  }
 ],
 "metadata": {
  "kernelspec": {
   "display_name": "Python 3",
   "language": "python",
   "name": "python3"
  },
  "language_info": {
   "codemirror_mode": {
    "name": "ipython",
    "version": 3
   },
   "file_extension": ".py",
   "mimetype": "text/x-python",
   "name": "python",
   "nbconvert_exporter": "python",
   "pygments_lexer": "ipython3",
   "version": "3.7.6"
  }
 },
 "nbformat": 4,
 "nbformat_minor": 4
}
