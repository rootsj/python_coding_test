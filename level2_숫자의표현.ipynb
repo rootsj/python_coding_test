{
 "cells": [
  {
   "cell_type": "markdown",
   "metadata": {},
   "source": [
    "https://programmers.co.kr/learn/courses/30/lessons/12924"
   ]
  },
  {
   "cell_type": "markdown",
   "metadata": {},
   "source": [
    "# 숫자의 표현\n",
    "## 문제 설명\n",
    "Finn은 요즘 수학공부에 빠져 있습니다. 수학 공부를 하던 Finn은 자연수 n을 연속한 자연수들로 표현 하는 방법이 여러개라는 사실을 알게<br> 되었습니다. 예를들어 15는 다음과 같이 4가지로 표현 할 수 있습니다.<br><br>\n",
    "\n",
    "1 + 2 + 3 + 4 + 5 = 15<br>\n",
    "4 + 5 + 6 = 15<br>\n",
    "7 + 8 = 15<br>\n",
    "15 = 15<br>\n",
    "자연수 n이 매개변수로 주어질 때, 연속된 자연수들로 n을 표현하는 방법의 수를 return하는 solution를 완성해주세요.<br>\n",
    "\n",
    "## 제한사항\n",
    "n은 10,000 이하의 자연수 입니다."
   ]
  },
  {
   "cell_type": "markdown",
   "metadata": {},
   "source": [
    "## 입출력 예 \n",
    "|n|result|\n",
    "|-|-|\n",
    "|15|4|"
   ]
  },
  {
   "cell_type": "markdown",
   "metadata": {},
   "source": [
    "## 답 A"
   ]
  },
  {
   "cell_type": "code",
   "execution_count": 2,
   "metadata": {},
   "outputs": [],
   "source": [
    "def solution(n):\n",
    "    answer = 0\n",
    "    temp = 0\n",
    "    for i in range(1, n+1):\n",
    "        for j in range(i, n+1):\n",
    "            temp += j\n",
    "            if temp == n:\n",
    "                answer += 1\n",
    "                temp = 0\n",
    "                break\n",
    "            elif temp > n:\n",
    "                temp = 0\n",
    "                break\n",
    "    return answer"
   ]
  },
  {
   "cell_type": "code",
   "execution_count": 3,
   "metadata": {},
   "outputs": [
    {
     "data": {
      "text/plain": [
       "4"
      ]
     },
     "execution_count": 3,
     "metadata": {},
     "output_type": "execute_result"
    }
   ],
   "source": [
    "solution(15)"
   ]
  },
  {
   "cell_type": "markdown",
   "metadata": {},
   "source": [
    "## 답 B"
   ]
  },
  {
   "cell_type": "code",
   "execution_count": null,
   "metadata": {},
   "outputs": [],
   "source": [
    "def solution(num):\n",
    "    answer = 0\n",
    "    for i in range(1, num + 1):\n",
    "        s = 0\n",
    "        while s < num:\n",
    "            s += i\n",
    "            i += 1\n",
    "        if s == num:\n",
    "            answer += 1\n",
    "\n",
    "\n",
    "    return answer"
   ]
  },
  {
   "cell_type": "code",
   "execution_count": null,
   "metadata": {},
   "outputs": [],
   "source": [
    "solution(15)"
   ]
  },
  {
   "cell_type": "markdown",
   "metadata": {},
   "source": [
    "## 답 C"
   ]
  },
  {
   "cell_type": "code",
   "execution_count": 8,
   "metadata": {},
   "outputs": [],
   "source": [
    "def solution(n):\n",
    "    answer = 1\n",
    "    for i in range(1, n//2 + 1):\n",
    "        cnt = 0\n",
    "        for j in range(i, n+1): \n",
    "            cnt += j \n",
    "            if cnt == n: \n",
    "                answer += 1\n",
    "                break\n",
    "            elif cnt > n: break \n",
    "            else: continue\n",
    "    return answer"
   ]
  },
  {
   "cell_type": "code",
   "execution_count": 9,
   "metadata": {
    "scrolled": true
   },
   "outputs": [
    {
     "data": {
      "text/plain": [
       "4"
      ]
     },
     "execution_count": 9,
     "metadata": {},
     "output_type": "execute_result"
    }
   ],
   "source": [
    "solution(15)"
   ]
  },
  {
   "cell_type": "markdown",
   "metadata": {},
   "source": [
    "## 답 D"
   ]
  },
  {
   "cell_type": "code",
   "execution_count": 4,
   "metadata": {},
   "outputs": [],
   "source": [
    "def solution(num):\n",
    "    return len([i  for i in range(1,num+1,2) if num % i is 0])"
   ]
  },
  {
   "cell_type": "code",
   "execution_count": 16,
   "metadata": {},
   "outputs": [
    {
     "data": {
      "text/plain": [
       "1"
      ]
     },
     "execution_count": 16,
     "metadata": {},
     "output_type": "execute_result"
    }
   ],
   "source": [
    "solution(15)"
   ]
  },
  {
   "cell_type": "markdown",
   "metadata": {},
   "source": [
    "## D 풀이\n",
    "- 입력받은 값까지 1부터 홀수로 나누어서 나머지가 0이 되는 갯수\n",
    "- 예를 들어 n이 3개의 연속된 자연수(i-1, i, i+1)의 합으로 표현된다면 합은 3i가 됩니다. 즉, n은 3의 배수입니다. 마찬가지로 5개의 연속된 자연수의 합으로 n이 표현이 된다면 n은 5의 배수여야합니다. 따라서, n의 약수 중 홀수가 몇개있냐는 문제와 같은 문제로 해석할 수 있습니다.\n",
    "- 연속된 자연수의 개수가 짝수인 경우는 2 밖에 없습니다 그런데 연속된 자연수의 개수가 2개이려면 주어진 num이 홀수여야 하죠. 위의 식에 따르면 i가 1 ~ num인 경우를 모두 조사하므로 num이 홀수이면 num도 카운트되게 됩니다. 이 경우가 연속된 자연수의 개수가 2인 경우와 동일하게 됩니다"
   ]
  }
 ],
 "metadata": {
  "kernelspec": {
   "display_name": "Python 3",
   "language": "python",
   "name": "python3"
  },
  "language_info": {
   "codemirror_mode": {
    "name": "ipython",
    "version": 3
   },
   "file_extension": ".py",
   "mimetype": "text/x-python",
   "name": "python",
   "nbconvert_exporter": "python",
   "pygments_lexer": "ipython3",
   "version": "3.7.6"
  }
 },
 "nbformat": 4,
 "nbformat_minor": 4
}
