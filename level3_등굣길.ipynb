{
 "cells": [
  {
   "cell_type": "markdown",
   "metadata": {},
   "source": [
    "https://programmers.co.kr/learn/courses/30/lessons/42898#\n",
    "    \n",
    "## 동적계획법(Dynamic Programming)"
   ]
  },
  {
   "cell_type": "markdown",
   "metadata": {},
   "source": [
    "# 등굣길"
   ]
  },
  {
   "cell_type": "markdown",
   "metadata": {},
   "source": [
    "## 문제 설명\n",
    "계속되는 폭우로 일부 지역이 물에 잠겼습니다. 물에 잠기지 않은 지역을 통해 학교를 가려고 합니다. 집에서 학교까지 가는 길은 m x n 크기의 격자모양으로 나타낼 수 있습니다.\n",
    "\n",
    "아래 그림은 m = 4, n = 3 인 경우입니다."
   ]
  },
  {
   "cell_type": "markdown",
   "metadata": {},
   "source": [
    "![image](img/등굣길.png)"
   ]
  },
  {
   "cell_type": "markdown",
   "metadata": {},
   "source": [
    "가장 왼쪽 위, 즉 집이 있는 곳의 좌표는 (1, 1)로 나타내고 가장 오른쪽 아래, 즉 학교가 있는 곳의 좌표는 (m, n)으로 나타냅니다. <br><br>\n",
    "\n",
    "격자의 크기 m, n과 물이 잠긴 지역의 좌표를 담은 2차원 배열 puddles이 매개변수로 주어집니다. 오른쪽과 아래쪽으로만 움직여 집에서 학교까지 갈 수 있는 최단경로의 개수를 1,000,000,007로 나눈 나머지를 return 하도록 solution 함수를 작성해주세요.<br>\n",
    "\n",
    "## 제한사항\n",
    "격자의 크기 m, n은 1 이상 100 이하인 자연수입니다.<br>\n",
    "m과 n이 모두 1인 경우는 입력으로 주어지지 않습니다.<br>\n",
    "물에 잠긴 지역은 0개 이상 10개 이하입니다.<br>\n",
    "집과 학교가 물에 잠긴 경우는 입력으로 주어지지 않습니다.<br>"
   ]
  },
  {
   "cell_type": "markdown",
   "metadata": {},
   "source": [
    "|입출력|||예|\n",
    "|-|-|-|-|\n",
    "|m|n|puddles|return|\n",
    "|4|3|[[2, 2]]|4|"
   ]
  },
  {
   "cell_type": "markdown",
   "metadata": {},
   "source": [
    "## 입출력 예 설명\n",
    "![image2](img/등굣길2.png)"
   ]
  },
  {
   "cell_type": "markdown",
   "metadata": {},
   "source": [
    "## 풀이"
   ]
  },
  {
   "cell_type": "code",
   "execution_count": 1,
   "metadata": {},
   "outputs": [],
   "source": [
    "def solution(m, n, puddles):\n",
    "    r = [[1 for j in range(m)] for i in range(n)]\n",
    "    for y, x in puddles:\n",
    "        r[x - 1][y - 1] = 0\n",
    "    for i in range(1, m):\n",
    "        if r[0][i] == 1:\n",
    "            r[0][i] = r[0][i-1]\n",
    "    for j in range(1, n):\n",
    "        if r[j][0] == 1:\n",
    "            r[j][0] = r[j-1][0]\n",
    "    for i in range(1, n):\n",
    "        for j in range(1, m):\n",
    "            if r[i][j] == 1:\n",
    "                r[i][j] = r[i][j-1] + r[i-1][j]\n",
    "    answer = r[-1][-1] % 1000000007\n",
    "    \n",
    "    return answer"
   ]
  }
 ],
 "metadata": {
  "kernelspec": {
   "display_name": "Python 3",
   "language": "python",
   "name": "python3"
  },
  "language_info": {
   "codemirror_mode": {
    "name": "ipython",
    "version": 3
   },
   "file_extension": ".py",
   "mimetype": "text/x-python",
   "name": "python",
   "nbconvert_exporter": "python",
   "pygments_lexer": "ipython3",
   "version": "3.7.6"
  }
 },
 "nbformat": 4,
 "nbformat_minor": 4
}
