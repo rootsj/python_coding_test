{
 "cells": [
  {
   "cell_type": "markdown",
   "metadata": {},
   "source": [
    "https://programmers.co.kr/learn/courses/30/lessons/12914"
   ]
  },
  {
   "cell_type": "markdown",
   "metadata": {},
   "source": [
    "# 멀리뛰기\n",
    "## 문제 설명\n",
    "효진이는 멀리 뛰기를 연습하고 있습니다. 효진이는 한번에 1칸, 또는 2칸을 뛸 수 있습니다. 칸이 총 4개 있을 때, 효진이는 <br>\n",
    "(1칸, 1칸, 1칸, 1칸) <br>\n",
    "(1칸, 2칸, 1칸) <br>\n",
    "(1칸, 1칸, 2칸) <br>\n",
    "(2칸, 1칸, 1칸) <br>\n",
    "(2칸, 2칸) <br><br>\n",
    "의 5가지 방법으로 맨 끝 칸에 도달할 수 있습니다. 멀리뛰기에 사용될 칸의 수 n이 주어질 때, 효진이가 끝에 도달하는 방법이 몇 가지인지<br> 알아내, 여기에 1234567를 나눈 나머지를 리턴하는 함수, solution을 완성하세요. 예를 들어 4가 입력된다면, 5를 return하면 됩니다.<br>\n",
    "\n",
    "## 제한 사항\n",
    "n은 1 이상, 2000 이하인 정수입니다."
   ]
  },
  {
   "cell_type": "markdown",
   "metadata": {},
   "source": [
    "## 입출력 예\n",
    "|n|result|\n",
    "|-|-|\n",
    "|4|5|\n",
    "|3|3|"
   ]
  },
  {
   "cell_type": "markdown",
   "metadata": {},
   "source": [
    "## 입출력 예 설명\n",
    "#### 입출력 예 #1\n",
    "위에서 설명한 내용과 같습니다.\n",
    "\n",
    "#### 입출력 예 #2\n",
    "(2칸, 1칸) <br>\n",
    "(1칸, 2칸) <br>\n",
    "(1칸, 1칸, 1칸) <br>\n",
    "총 3가지 방법으로 멀리 뛸 수 있습니다. <br>"
   ]
  },
  {
   "cell_type": "markdown",
   "metadata": {},
   "source": [
    "## 답 A"
   ]
  },
  {
   "cell_type": "code",
   "execution_count": 14,
   "metadata": {},
   "outputs": [],
   "source": [
    "def factorial(m):\n",
    "    ret = 1\n",
    "    for i in range(1, m+1):\n",
    "        ret *= i\n",
    "    return ret\n",
    "\n",
    "def solution(n):\n",
    "    y = n // 2\n",
    "    x = n % 2\n",
    "    print(y)\n",
    "    print(x)\n",
    "    answer = 1\n",
    "    while y != 0 :\n",
    "        answer += factorial(y+x) / (factorial(y) * factorial(x))\n",
    "        y -= 1 \n",
    "        x += 2\n",
    "    return answer % 1234567"
   ]
  },
  {
   "cell_type": "markdown",
   "metadata": {},
   "source": [
    "## A 풀이\n",
    "\n",
    "- factorial을 사용한 풀이\n",
    "- 그러나 수가 매우 커서 프로그래머스 7번부터 풀리지가 않음"
   ]
  },
  {
   "cell_type": "markdown",
   "metadata": {},
   "source": [
    "## 답 B"
   ]
  },
  {
   "cell_type": "code",
   "execution_count": 17,
   "metadata": {},
   "outputs": [
    {
     "data": {
      "text/plain": [
       "1"
      ]
     },
     "execution_count": 17,
     "metadata": {},
     "output_type": "execute_result"
    }
   ],
   "source": [
    "def solution(n):\n",
    "    a, b = 0, 1\n",
    "    for i in range(n + 1):\n",
    "        a, b = b, a + b\n",
    "    return a % 1234567"
   ]
  },
  {
   "cell_type": "markdown",
   "metadata": {},
   "source": [
    "## B 풀이\n",
    "- 피보나치 수열\n",
    "- 1, 2칸만 뛸 수 있으므로 피보나치 수열과 동일"
   ]
  }
 ],
 "metadata": {
  "kernelspec": {
   "display_name": "Python 3",
   "language": "python",
   "name": "python3"
  },
  "language_info": {
   "codemirror_mode": {
    "name": "ipython",
    "version": 3
   },
   "file_extension": ".py",
   "mimetype": "text/x-python",
   "name": "python",
   "nbconvert_exporter": "python",
   "pygments_lexer": "ipython3",
   "version": "3.7.6"
  }
 },
 "nbformat": 4,
 "nbformat_minor": 4
}
